{
  "nbformat": 4,
  "nbformat_minor": 0,
  "metadata": {
    "colab": {
      "provenance": []
    },
    "kernelspec": {
      "name": "python3",
      "display_name": "Python 3"
    },
    "language_info": {
      "name": "python"
    }
  },
  "cells": [
    {
      "cell_type": "code",
      "source": [
        "!pip install tweepy vaderSentiment\n"
      ],
      "metadata": {
        "colab": {
          "base_uri": "https://localhost:8080/"
        },
        "id": "WIRec0HntcOb",
        "outputId": "c44de35b-6f3e-414f-f0f5-6bfa4d86046e"
      },
      "execution_count": 27,
      "outputs": [
        {
          "output_type": "stream",
          "name": "stdout",
          "text": [
            "Requirement already satisfied: tweepy in /usr/local/lib/python3.10/dist-packages (4.13.0)\n",
            "Requirement already satisfied: vaderSentiment in /usr/local/lib/python3.10/dist-packages (3.3.2)\n",
            "Requirement already satisfied: oauthlib<4,>=3.2.0 in /usr/local/lib/python3.10/dist-packages (from tweepy) (3.2.2)\n",
            "Requirement already satisfied: requests<3,>=2.27.0 in /usr/local/lib/python3.10/dist-packages (from tweepy) (2.31.0)\n",
            "Requirement already satisfied: requests-oauthlib<2,>=1.2.0 in /usr/local/lib/python3.10/dist-packages (from tweepy) (1.3.1)\n",
            "Requirement already satisfied: charset-normalizer<4,>=2 in /usr/local/lib/python3.10/dist-packages (from requests<3,>=2.27.0->tweepy) (3.2.0)\n",
            "Requirement already satisfied: idna<4,>=2.5 in /usr/local/lib/python3.10/dist-packages (from requests<3,>=2.27.0->tweepy) (3.4)\n",
            "Requirement already satisfied: urllib3<3,>=1.21.1 in /usr/local/lib/python3.10/dist-packages (from requests<3,>=2.27.0->tweepy) (2.0.5)\n",
            "Requirement already satisfied: certifi>=2017.4.17 in /usr/local/lib/python3.10/dist-packages (from requests<3,>=2.27.0->tweepy) (2023.7.22)\n"
          ]
        }
      ]
    },
    {
      "cell_type": "code",
      "source": [
        "import tweepy\n",
        "from vaderSentiment.vaderSentiment import SentimentIntensityAnalyzer\n",
        "\n",
        "# Twitter API Credentials\n",
        "CONSUMER_KEY = 'YOUR_CONSUMER_KEY'\n",
        "CONSUMER_SECRET = 'YOUR_CONSUMER_SECRET'\n",
        "ACCESS_TOKEN = 'YOUR_ACCESS_TOKEN'\n",
        "ACCESS_TOKEN_SECRET = 'YOUR_ACCESS_TOKEN_SECRET'\n",
        "\n",
        "# Setup Tweepy\n",
        "auth = tweepy.OAuthHandler(CONSUMER_KEY, CONSUMER_SECRET)\n",
        "auth.set_access_token(ACCESS_TOKEN, ACCESS_TOKEN_SECRET)\n",
        "api = tweepy.API(auth)\n",
        "\n",
        "# VADER sentiment analysis\n",
        "analyzer = SentimentIntensityAnalyzer()\n",
        "\n",
        "def fetch_tweets(query, count=100):\n",
        "    tweets = []\n",
        "    fetched_tweets = api.search(q=query, count=count, lang='en')\n",
        "    for tweet in fetched_tweets:\n",
        "        parsed_tweet = {}\n",
        "        parsed_tweet['text'] = tweet.text\n",
        "\n",
        "        # Analyzing sentiment\n",
        "        sentiment = get_tweet_sentiment(tweet.text)\n",
        "        parsed_tweet['sentiment'] = sentiment\n",
        "\n",
        "        if tweet.retweet_count > 0:\n",
        "          # If tweet has retweets, ensure it's added only once\n",
        "            if parsed_tweet not in tweets:\n",
        "                tweets.append(parsed_tweet)\n",
        "        else:\n",
        "            tweets.append(parsed_tweet)\n",
        "    return tweets\n",
        "\n",
        "def get_tweet_sentiment(tweet):\n",
        "    scores = analyzer.polarity_scores(tweet)\n",
        "    if scores['compound'] >= 0.05:\n",
        "        return 'Positive'\n",
        "    elif scores['compound'] <= -0.05:\n",
        "        return 'Negative'\n",
        "    else:\n",
        "        return 'Neutral'\n",
        "\n",
        "# Fetching tweets\n",
        "query = \"Python Programming\"\n",
        "tweets = fetch_tweets(query, count=100)\n",
        "\n",
        "# Print sentiment analysis\n",
        "for tweet in tweets:\n",
        "    print(f\"Text: {tweet['text']}\\nSentiment: {tweet['sentiment']}\\n\")\n"
      ],
      "metadata": {
        "id": "wnCjFTO1tsyM"
      },
      "execution_count": null,
      "outputs": []
    }
  ]
}